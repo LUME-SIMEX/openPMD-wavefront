{
 "cells": [
  {
   "cell_type": "markdown",
   "metadata": {},
   "source": [
    "# Convert Genesis DFL to Wavefront to SRWLWfr\n",
    "\n",
    "This example will show how a DFL file produced by Genesis can be converted to an opemPMD-wavefront by lume-genesis, and then converted to an SRW wavefront object."
   ]
  },
  {
   "cell_type": "markdown",
   "metadata": {},
   "source": [
    "# Get Genesis v2 DFL file and write Wavefront"
   ]
  },
  {
   "cell_type": "code",
   "execution_count": 1,
   "metadata": {},
   "outputs": [
    {
     "name": "stdout",
     "output_type": "stream",
     "text": [
      "--2020-09-02 14:06:16--  https://portal.nersc.gov/cfs/m669/wavefronts/hxr_cut9_5keVTaper4_5.out.dfl\n",
      "Resolving portal.nersc.gov (portal.nersc.gov)... 128.55.206.28, 128.55.206.24, 128.55.206.26\n",
      "Connecting to portal.nersc.gov (portal.nersc.gov)|128.55.206.28|:443... connected.\n",
      "HTTP request sent, awaiting response... 200 OK\n",
      "Length: 501991968 (479M)\n",
      "Saving to: ‘hxr_cut9_5keVTaper4_5.out.dfl’\n",
      "\n",
      "hxr_cut9_5keVTaper4 100%[===================>] 478.74M  25.2MB/s    in 26s     \n",
      "\n",
      "2020-09-02 14:06:42 (18.4 MB/s) - ‘hxr_cut9_5keVTaper4_5.out.dfl’ saved [501991968/501991968]\n",
      "\n"
     ]
    }
   ],
   "source": [
    "# Get example DFL file\n",
    "!wget -N https://portal.nersc.gov/cfs/m669/wavefronts/hxr_cut9_5keVTaper4_5.out.dfl"
   ]
  },
  {
   "cell_type": "code",
   "execution_count": 2,
   "metadata": {},
   "outputs": [],
   "source": [
    "from h5py import File\n",
    "from genesis.writers import write_openpmd_wavefront_h5"
   ]
  },
  {
   "cell_type": "code",
   "execution_count": 3,
   "metadata": {},
   "outputs": [],
   "source": [
    "DFL = 'hxr_cut9_5keVTaper4_5.out.dfl'\n",
    "\n",
    "# Genesis parameters. These need to be known to populate the openPMD-wavefront metadata\n",
    "PARAM={'ncar': 251, 'dgrid': 0.00015, 'xlamds': 1.5005e-10, 'zsep': 20, 'ntail':0, 'itdp':1}"
   ]
  },
  {
   "cell_type": "code",
   "execution_count": 4,
   "metadata": {},
   "outputs": [],
   "source": [
    "from genesis.parsers import parse_genesis_dfl"
   ]
  },
  {
   "cell_type": "code",
   "execution_count": 5,
   "metadata": {},
   "outputs": [
    {
     "name": "stdout",
     "output_type": "stream",
     "text": [
      "CPU times: user 717 ms, sys: 481 ms, total: 1.2 s\n",
      "Wall time: 637 ms\n"
     ]
    }
   ],
   "source": [
    "%%time\n",
    "D2 = parse_genesis_dfl(DFL, nx=PARAM['ncar'])"
   ]
  },
  {
   "cell_type": "code",
   "execution_count": 6,
   "metadata": {},
   "outputs": [
    {
     "data": {
      "text/plain": [
       "3.001e-09"
      ]
     },
     "execution_count": 6,
     "metadata": {},
     "output_type": "execute_result"
    }
   ],
   "source": [
    "PARAM['xlamds']*PARAM['zsep']"
   ]
  },
  {
   "cell_type": "code",
   "execution_count": 7,
   "metadata": {},
   "outputs": [],
   "source": [
    "with File('wavefront.h5', 'w') as h5:\n",
    "    write_openpmd_wavefront_h5(h5, dfl=D2, param=PARAM)"
   ]
  },
  {
   "cell_type": "code",
   "execution_count": 8,
   "metadata": {},
   "outputs": [
    {
     "data": {
      "text/plain": [
       "{'axisLabels': array(['x', 'y', 'z'], dtype=object),\n",
       " 'geometry': 'cartesian',\n",
       " 'gridGlobalOffset': array([-1.50000e-04, -1.50000e-04, -7.47249e-07]),\n",
       " 'gridSpacing': array([1.200e-06, 1.200e-06, 3.001e-09]),\n",
       " 'gridUnitDimension': array([[1, 0, 0, 0, 0, 0, 0],\n",
       "        [1, 0, 0, 0, 0, 0, 0],\n",
       "        [1, 0, 0, 0, 0, 0, 0]]),\n",
       " 'gridUnitSI': array([1., 1., 1.]),\n",
       " 'photonEnergy': 8262.85894256583,\n",
       " 'photonEnergyUnitDimension': array([ 2,  1, -2,  0,  0,  0,  0]),\n",
       " 'photonEnergyUnitSI': 1.602176634e-19,\n",
       " 'timeOffset': 0.0,\n",
       " 'unitDimension': array([ 1,  1, -3, -1,  0,  0,  0])}"
      ]
     },
     "execution_count": 8,
     "metadata": {},
     "output_type": "execute_result"
    }
   ],
   "source": [
    "h5 = File('wavefront.h5', 'r')\n",
    "dict(h5['data']['000000']['meshes']['electricField'].attrs)"
   ]
  },
  {
   "cell_type": "markdown",
   "metadata": {},
   "source": [
    "# Wavefront to SRW"
   ]
  },
  {
   "cell_type": "code",
   "execution_count": 9,
   "metadata": {},
   "outputs": [
    {
     "data": {
      "text/plain": [
       "\u001b[0;31mSignature:\u001b[0m\n",
       "\u001b[0msrw_wfr_from_openpmd_wavefront\u001b[0m\u001b[0;34m(\u001b[0m\u001b[0;34m\u001b[0m\n",
       "\u001b[0;34m\u001b[0m    \u001b[0mh5_meshes\u001b[0m\u001b[0;34m,\u001b[0m\u001b[0;34m\u001b[0m\n",
       "\u001b[0;34m\u001b[0m    \u001b[0mdtype\u001b[0m\u001b[0;34m=\u001b[0m\u001b[0mdtype\u001b[0m\u001b[0;34m(\u001b[0m\u001b[0;34m'float32'\u001b[0m\u001b[0;34m)\u001b[0m\u001b[0;34m,\u001b[0m\u001b[0;34m\u001b[0m\n",
       "\u001b[0;34m\u001b[0m    \u001b[0miz_start\u001b[0m\u001b[0;34m=\u001b[0m\u001b[0;32mNone\u001b[0m\u001b[0;34m,\u001b[0m\u001b[0;34m\u001b[0m\n",
       "\u001b[0;34m\u001b[0m    \u001b[0miz_end\u001b[0m\u001b[0;34m=\u001b[0m\u001b[0;32mNone\u001b[0m\u001b[0;34m,\u001b[0m\u001b[0;34m\u001b[0m\n",
       "\u001b[0;34m\u001b[0m    \u001b[0miz_step\u001b[0m\u001b[0;34m=\u001b[0m\u001b[0;32mNone\u001b[0m\u001b[0;34m,\u001b[0m\u001b[0;34m\u001b[0m\n",
       "\u001b[0;34m\u001b[0m    \u001b[0mSRWLWfr_class\u001b[0m\u001b[0;34m=\u001b[0m\u001b[0;32mNone\u001b[0m\u001b[0;34m,\u001b[0m\u001b[0;34m\u001b[0m\n",
       "\u001b[0;34m\u001b[0m\u001b[0;34m)\u001b[0m\u001b[0;34m\u001b[0m\u001b[0;34m\u001b[0m\u001b[0m\n",
       "\u001b[0;31mDocstring:\u001b[0m\n",
       "Forms the essential input for SRW's wfr class from an open handle to openPMD-wavefront meshes.\n",
       "\n",
       "Optionally iz_start, iz_end, and iz_step can be given which appropriately sample the full data in the z dimension. \n",
       "\n",
       "SRWLWfr_class should be the SRWLWfr class. If this is not given, then the raw inputs needed will be returned:\n",
       "    arEx, arEy, kwargs,  wrf_attrs\n",
       "And then the wavefront can be constructed with:\n",
       "    wfr = SRWLWfr_class(arEx, arEy, **kwargs)\n",
       "    wfr.__dict__.update(wrf_attrs)        \n",
       "    \n",
       "Note that the units in an openPMD-wavefront electric field E are V/m, and SRW's field F_SRW are sqrt(W/mm^2):\n",
       "    E = F_SRW * sqrt(2*Z_0) * 1000 mm/m\n",
       "    \n",
       "\n",
       "Example with SRW:\n",
       "    h5 = File('wavefront.h5', 'r')\n",
       "    meshes = h5['data']['000000']['meshes']\n",
       "    \n",
       "    from ?? import SRWLWfr\n",
       "    \n",
       "    wrf = srw_wfr_from_openpmd_wavefront(meshes)\n",
       "    \n",
       "\u001b[0;31mFile:\u001b[0m      ~/Code/GitHub/openPMD-wavefront/pmd_wavefront/interfaces/srw.py\n",
       "\u001b[0;31mType:\u001b[0m      function\n"
      ]
     },
     "metadata": {},
     "output_type": "display_data"
    }
   ],
   "source": [
    "from pmd_wavefront.interfaces.srw import srw_wfr_from_openpmd_wavefront\n",
    "\n",
    "?srw_wfr_from_openpmd_wavefront"
   ]
  },
  {
   "cell_type": "code",
   "execution_count": 10,
   "metadata": {},
   "outputs": [],
   "source": [
    "with File('wavefront.h5', 'r') as h5:\n",
    "    arEx, arEy, kwargs,  wrf_attrs = srw_wfr_from_openpmd_wavefront(h5['data']['000000']['meshes'],  iz_step=None)"
   ]
  },
  {
   "cell_type": "code",
   "execution_count": 11,
   "metadata": {},
   "outputs": [
    {
     "data": {
      "text/plain": [
       "(62748996, 62748996)"
      ]
     },
     "execution_count": 11,
     "metadata": {},
     "output_type": "execute_result"
    }
   ],
   "source": [
    "# These are the SRW arrays\n",
    "len(arEx), len(arEy)"
   ]
  },
  {
   "cell_type": "code",
   "execution_count": 12,
   "metadata": {},
   "outputs": [
    {
     "data": {
      "text/plain": [
       "({'_typeE': 'f',\n",
       "  '_eStart': 0,\n",
       "  '_eFin': 4.975098472957582e-15,\n",
       "  '_ne': 498,\n",
       "  '_xStart': -0.00015,\n",
       "  '_xFin': 0.00015,\n",
       "  '_nx': 251,\n",
       "  '_yStart': -0.00015,\n",
       "  '_yFin': 0.00015,\n",
       "  '_ny': 251,\n",
       "  '_zStart': 0},\n",
       " {'avgPhotEn': 8262.85894256583, 'presFT': 1, 'unitElFld': 2})"
      ]
     },
     "execution_count": 12,
     "metadata": {},
     "output_type": "execute_result"
    }
   ],
   "source": [
    "# kwargs and attributes for the SRWLWfr class\n",
    "kwargs,  wrf_attrs"
   ]
  },
  {
   "cell_type": "markdown",
   "metadata": {},
   "source": [
    "# Cleanup"
   ]
  },
  {
   "cell_type": "code",
   "execution_count": 13,
   "metadata": {},
   "outputs": [],
   "source": [
    "import os\n",
    "os.remove('hxr_cut9_5keVTaper4_5.out.dfl')\n",
    "os.remove('wavefront.h5')"
   ]
  }
 ],
 "metadata": {
  "kernelspec": {
   "display_name": "Python 3",
   "language": "python",
   "name": "python3"
  },
  "language_info": {
   "codemirror_mode": {
    "name": "ipython",
    "version": 3
   },
   "file_extension": ".py",
   "mimetype": "text/x-python",
   "name": "python",
   "nbconvert_exporter": "python",
   "pygments_lexer": "ipython3",
   "version": "3.8.5"
  }
 },
 "nbformat": 4,
 "nbformat_minor": 4
}
